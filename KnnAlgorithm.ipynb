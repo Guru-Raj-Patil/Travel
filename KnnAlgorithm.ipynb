{
 "cells": [
  {
   "cell_type": "code",
   "execution_count": 1,
   "id": "5ef4b48c-1623-42d9-a2b0-eec0a6c89dfc",
   "metadata": {},
   "outputs": [
    {
     "name": "stdout",
     "output_type": "stream",
     "text": [
      "datasets are loaded\n",
      "Datasets are split into training and testing datasets\n",
      "the size of the test datasets with its labels (15, 4) (15,)\n",
      "the size of the training datasets with its labels are (135, 4) (135,)\n",
      "label 0 = setosa\n",
      "label 1 = versicolor\n",
      "label 2 = virginica\n",
      "sample [4.7 3.2 1.6 0.2] actual 0 predicted 0\n",
      "sample [6.3 2.9 5.6 1.8] actual 2 predicted 2\n",
      "sample [6.3 3.3 6.  2.5] actual 2 predicted 2\n",
      "sample [7.  3.2 4.7 1.4] actual 1 predicted 1\n",
      "sample [5.5 2.6 4.4 1.2] actual 1 predicted 1\n",
      "sample [6.5 3.  5.5 1.8] actual 2 predicted 2\n",
      "sample [4.8 3.  1.4 0.3] actual 0 predicted 0\n",
      "sample [4.6 3.6 1.  0.2] actual 0 predicted 0\n",
      "sample [6.2 2.2 4.5 1.5] actual 1 predicted 1\n",
      "sample [7.7 3.  6.1 2.3] actual 2 predicted 2\n",
      "sample [4.7 3.2 1.3 0.2] actual 0 predicted 0\n",
      "sample [5.7 2.5 5.  2. ] actual 2 predicted 2\n",
      "sample [6.4 2.7 5.3 1.9] actual 2 predicted 2\n",
      "sample [4.5 2.3 1.3 0.3] actual 0 predicted 0\n",
      "sample [6.6 3.  4.4 1.4] actual 1 predicted 1\n",
      "Accuracy 1.0\n",
      "confusion matrix\n",
      " [[5 0 0]\n",
      " [0 4 0]\n",
      " [0 0 6]]\n",
      "classification report               precision    recall  f1-score   support\n",
      "\n",
      "      setosa       1.00      1.00      1.00         5\n",
      "  versicolor       1.00      1.00      1.00         4\n",
      "   virginica       1.00      1.00      1.00         6\n",
      "\n",
      "    accuracy                           1.00        15\n",
      "   macro avg       1.00      1.00      1.00        15\n",
      "weighted avg       1.00      1.00      1.00        15\n",
      "\n"
     ]
    }
   ],
   "source": [
    "#Apply Knn algorithm to the iris dataset\n",
    "#knn stands for K nearest neighbors algorithm\n",
    "# step 1 import all the necessary libraries\n",
    "# knn algorithm 1 import\n",
    "from sklearn.neighbors import KNeighborsClassifier\n",
    "from sklearn.model_selection import train_test_split\n",
    "from sklearn import metrics\n",
    "from sklearn import datasets\n",
    "iris = datasets.load_iris()\n",
    "print(\"datasets are loaded\")\n",
    "print(\"Datasets are split into training and testing datasets\")\n",
    "x_train,x_test,y_train,y_test = train_test_split(iris.data,iris.target,test_size = 0.1)\n",
    "print(\"the size of the test datasets with its labels\",x_test.shape,y_test.shape)\n",
    "print(\"the size of the training datasets with its labels are\",x_train.shape,y_train.shape)\n",
    "for i in range(len(iris.target_names)):\n",
    "    print(\"label\",i,\"=\",iris.target_names[i])\n",
    "classifier = KNeighborsClassifier(n_neighbors = 1)\n",
    "classifier.fit(x_train,y_train)\n",
    "y_pred = classifier.predict(x_test)\n",
    "for r in range(0,len(x_test)):\n",
    "    print(\"sample\",str(x_test[r]),\"actual\",str(y_test[r]),\"predicted\",str(y_pred[r]))\n",
    "print(\"Accuracy\",metrics.accuracy_score(y_test,y_pred))\n",
    "print(\"confusion matrix\\n\",metrics.confusion_matrix(y_test,y_pred))\n",
    "print(\"classification report\",metrics.classification_report(y_test,y_pred,target_names = iris.target_names))"
   ]
  }
 ],
 "metadata": {
  "kernelspec": {
   "display_name": "Python 3 (ipykernel)",
   "language": "python",
   "name": "python3"
  },
  "language_info": {
   "codemirror_mode": {
    "name": "ipython",
    "version": 3
   },
   "file_extension": ".py",
   "mimetype": "text/x-python",
   "name": "python",
   "nbconvert_exporter": "python",
   "pygments_lexer": "ipython3",
   "version": "3.12.4"
  }
 },
 "nbformat": 4,
 "nbformat_minor": 5
}
